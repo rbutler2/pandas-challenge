{
 "cells": [
  {
   "cell_type": "code",
   "execution_count": 1,
   "metadata": {},
   "outputs": [
    {
     "data": {
      "text/html": [
       "<div>\n",
       "<style scoped>\n",
       "    .dataframe tbody tr th:only-of-type {\n",
       "        vertical-align: middle;\n",
       "    }\n",
       "\n",
       "    .dataframe tbody tr th {\n",
       "        vertical-align: top;\n",
       "    }\n",
       "\n",
       "    .dataframe thead th {\n",
       "        text-align: right;\n",
       "    }\n",
       "</style>\n",
       "<table border=\"1\" class=\"dataframe\">\n",
       "  <thead>\n",
       "    <tr style=\"text-align: right;\">\n",
       "      <th></th>\n",
       "      <th>Purchase ID</th>\n",
       "      <th>SN</th>\n",
       "      <th>Age</th>\n",
       "      <th>Gender</th>\n",
       "      <th>Item ID</th>\n",
       "      <th>Item Name</th>\n",
       "      <th>Price</th>\n",
       "    </tr>\n",
       "  </thead>\n",
       "  <tbody>\n",
       "    <tr>\n",
       "      <th>0</th>\n",
       "      <td>0</td>\n",
       "      <td>Lisim78</td>\n",
       "      <td>20</td>\n",
       "      <td>Male</td>\n",
       "      <td>108</td>\n",
       "      <td>Extraction, Quickblade Of Trembling Hands</td>\n",
       "      <td>3.53</td>\n",
       "    </tr>\n",
       "    <tr>\n",
       "      <th>1</th>\n",
       "      <td>1</td>\n",
       "      <td>Lisovynya38</td>\n",
       "      <td>40</td>\n",
       "      <td>Male</td>\n",
       "      <td>143</td>\n",
       "      <td>Frenzied Scimitar</td>\n",
       "      <td>1.56</td>\n",
       "    </tr>\n",
       "    <tr>\n",
       "      <th>2</th>\n",
       "      <td>2</td>\n",
       "      <td>Ithergue48</td>\n",
       "      <td>24</td>\n",
       "      <td>Male</td>\n",
       "      <td>92</td>\n",
       "      <td>Final Critic</td>\n",
       "      <td>4.88</td>\n",
       "    </tr>\n",
       "    <tr>\n",
       "      <th>3</th>\n",
       "      <td>3</td>\n",
       "      <td>Chamassasya86</td>\n",
       "      <td>24</td>\n",
       "      <td>Male</td>\n",
       "      <td>100</td>\n",
       "      <td>Blindscythe</td>\n",
       "      <td>3.27</td>\n",
       "    </tr>\n",
       "    <tr>\n",
       "      <th>4</th>\n",
       "      <td>4</td>\n",
       "      <td>Iskosia90</td>\n",
       "      <td>23</td>\n",
       "      <td>Male</td>\n",
       "      <td>131</td>\n",
       "      <td>Fury</td>\n",
       "      <td>1.44</td>\n",
       "    </tr>\n",
       "  </tbody>\n",
       "</table>\n",
       "</div>"
      ],
      "text/plain": [
       "   Purchase ID             SN  Age Gender  Item ID  \\\n",
       "0            0        Lisim78   20   Male      108   \n",
       "1            1    Lisovynya38   40   Male      143   \n",
       "2            2     Ithergue48   24   Male       92   \n",
       "3            3  Chamassasya86   24   Male      100   \n",
       "4            4      Iskosia90   23   Male      131   \n",
       "\n",
       "                                   Item Name  Price  \n",
       "0  Extraction, Quickblade Of Trembling Hands   3.53  \n",
       "1                          Frenzied Scimitar   1.56  \n",
       "2                               Final Critic   4.88  \n",
       "3                                Blindscythe   3.27  \n",
       "4                                       Fury   1.44  "
      ]
     },
     "execution_count": 1,
     "metadata": {},
     "output_type": "execute_result"
    }
   ],
   "source": [
    "#import pandas library\n",
    "import pandas as pd\n",
    "\n",
    "#load the file\n",
    "file_to_load = \"Resources/purchase_data.csv\"\n",
    "\n",
    "#read the purchase data and store it into the Pandas data frame\n",
    "purchase_data = pd.read_csv(file_to_load, encoding= \"utf-8\")\n",
    "\n",
    "purchase_data_df = pd.DataFrame(purchase_data)\n",
    "purchase_data_df.head()"
   ]
  },
  {
   "cell_type": "code",
   "execution_count": 2,
   "metadata": {},
   "outputs": [
    {
     "data": {
      "text/html": [
       "<div>\n",
       "<style scoped>\n",
       "    .dataframe tbody tr th:only-of-type {\n",
       "        vertical-align: middle;\n",
       "    }\n",
       "\n",
       "    .dataframe tbody tr th {\n",
       "        vertical-align: top;\n",
       "    }\n",
       "\n",
       "    .dataframe thead th {\n",
       "        text-align: right;\n",
       "    }\n",
       "</style>\n",
       "<table border=\"1\" class=\"dataframe\">\n",
       "  <thead>\n",
       "    <tr style=\"text-align: right;\">\n",
       "      <th></th>\n",
       "      <th>Total Users</th>\n",
       "    </tr>\n",
       "  </thead>\n",
       "  <tbody>\n",
       "    <tr>\n",
       "      <th>0</th>\n",
       "      <td>576</td>\n",
       "    </tr>\n",
       "  </tbody>\n",
       "</table>\n",
       "</div>"
      ],
      "text/plain": [
       "   Total Users\n",
       "0          576"
      ]
     },
     "execution_count": 2,
     "metadata": {},
     "output_type": "execute_result"
    }
   ],
   "source": [
    "#calculate the total number of users\n",
    "total_users = len(purchase_data[\"SN\"].unique())\n",
    "total_users_df = pd.DataFrame({\"Total Users\": [total_users]})\n",
    "total_users_df"
   ]
  },
  {
   "cell_type": "code",
   "execution_count": 3,
   "metadata": {},
   "outputs": [
    {
     "data": {
      "text/html": [
       "<div>\n",
       "<style scoped>\n",
       "    .dataframe tbody tr th:only-of-type {\n",
       "        vertical-align: middle;\n",
       "    }\n",
       "\n",
       "    .dataframe tbody tr th {\n",
       "        vertical-align: top;\n",
       "    }\n",
       "\n",
       "    .dataframe thead th {\n",
       "        text-align: right;\n",
       "    }\n",
       "</style>\n",
       "<table border=\"1\" class=\"dataframe\">\n",
       "  <thead>\n",
       "    <tr style=\"text-align: right;\">\n",
       "      <th></th>\n",
       "      <th>Unique Items</th>\n",
       "      <th>Average Price</th>\n",
       "      <th>Number of Purchases</th>\n",
       "      <th>Total Revenue</th>\n",
       "    </tr>\n",
       "  </thead>\n",
       "  <tbody>\n",
       "    <tr>\n",
       "      <th>0</th>\n",
       "      <td>179</td>\n",
       "      <td>$3.05</td>\n",
       "      <td>780</td>\n",
       "      <td>$2,379.77</td>\n",
       "    </tr>\n",
       "  </tbody>\n",
       "</table>\n",
       "</div>"
      ],
      "text/plain": [
       "   Unique Items Average Price  Number of Purchases Total Revenue\n",
       "0           179         $3.05                  780     $2,379.77"
      ]
     },
     "execution_count": 3,
     "metadata": {},
     "output_type": "execute_result"
    }
   ],
   "source": [
    "#find total number of unique items\n",
    "unique_items = len(purchase_data[\"Item Name\"].unique())\n",
    "\n",
    "#find average price\n",
    "average_price = \"${:,.2f}\".format(sum(purchase_data[\"Price\"]) / purchase_data[\"Price\"].count())\n",
    "\n",
    "#find number of purchases\n",
    "number_of_purchases = len(purchase_data[\"Purchase ID\"])\n",
    "\n",
    "#find total revenue\n",
    "total_revenue = \"${:,.2f}\".format(sum(purchase_data[\"Price\"]))\n",
    "\n",
    "#create Data Frame\n",
    "purchasing_analysis_total_df = pd.DataFrame({\"Unique Items\": [unique_items], \"Average Price\": [average_price], \"Number of Purchases\": [number_of_purchases], \"Total Revenue\": [total_revenue]})\n",
    "purchasing_analysis_total_df"
   ]
  },
  {
   "cell_type": "code",
   "execution_count": 4,
   "metadata": {},
   "outputs": [
    {
     "data": {
      "text/html": [
       "<style  type=\"text/css\" >\n",
       "</style><table id=\"T_176c8138_93f8_11eb_b37b_9cb6d0bc877e\" ><thead>    <tr>        <th class=\"blank level0\" ></th>        <th class=\"col_heading level0 col0\" >Total Count</th>        <th class=\"col_heading level0 col1\" >Percent of Players</th>    </tr>    <tr>        <th class=\"index_name level0\" >Gender</th>        <th class=\"blank\" ></th>        <th class=\"blank\" ></th>    </tr></thead><tbody>\n",
       "                <tr>\n",
       "                        <th id=\"T_176c8138_93f8_11eb_b37b_9cb6d0bc877elevel0_row0\" class=\"row_heading level0 row0\" >Female</th>\n",
       "                        <td id=\"T_176c8138_93f8_11eb_b37b_9cb6d0bc877erow0_col0\" class=\"data row0 col0\" >81</td>\n",
       "                        <td id=\"T_176c8138_93f8_11eb_b37b_9cb6d0bc877erow0_col1\" class=\"data row0 col1\" >14.06%</td>\n",
       "            </tr>\n",
       "            <tr>\n",
       "                        <th id=\"T_176c8138_93f8_11eb_b37b_9cb6d0bc877elevel0_row1\" class=\"row_heading level0 row1\" >Male</th>\n",
       "                        <td id=\"T_176c8138_93f8_11eb_b37b_9cb6d0bc877erow1_col0\" class=\"data row1 col0\" >484</td>\n",
       "                        <td id=\"T_176c8138_93f8_11eb_b37b_9cb6d0bc877erow1_col1\" class=\"data row1 col1\" >84.03%</td>\n",
       "            </tr>\n",
       "            <tr>\n",
       "                        <th id=\"T_176c8138_93f8_11eb_b37b_9cb6d0bc877elevel0_row2\" class=\"row_heading level0 row2\" >Other / Non-Disclosed</th>\n",
       "                        <td id=\"T_176c8138_93f8_11eb_b37b_9cb6d0bc877erow2_col0\" class=\"data row2 col0\" >11</td>\n",
       "                        <td id=\"T_176c8138_93f8_11eb_b37b_9cb6d0bc877erow2_col1\" class=\"data row2 col1\" >1.91%</td>\n",
       "            </tr>\n",
       "    </tbody></table>"
      ],
      "text/plain": [
       "<pandas.io.formats.style.Styler at 0x1eb1f51c640>"
      ]
     },
     "execution_count": 4,
     "metadata": {},
     "output_type": "execute_result"
    }
   ],
   "source": [
    "#grab the Gneder and SN data from purchase_data.csv\n",
    "gender_data = purchase_data[[\"Gender\", \"SN\"]]\n",
    "\n",
    "#group by gender only counting the unique users\n",
    "gender_demographic = gender_data.groupby(\"Gender\")[\"SN\"].nunique()\n",
    "\n",
    "#calculate the percentage of genders\n",
    "percent = (gender_data.groupby(\"Gender\")[\"SN\"].nunique()) / total_users\n",
    "\n",
    "#create a dataframe\n",
    "gender_demographic_df = pd.DataFrame(gender_demographic)\n",
    "\n",
    "#add the gender % to the dataframe\n",
    "gender_demographic_df[\"Percent of Players\"] = percent\n",
    "\n",
    "#format the dataframe\n",
    "format_dict = {\"Percent of Players\": \"{:.2%}\"}\n",
    "gender_demographic_df.columns = [\"Total Count\", \"Percent of Players\"]\n",
    "\n",
    "#print the DataFrame\n",
    "gender_demographic_df.style.format(format_dict)"
   ]
  },
  {
   "cell_type": "code",
   "execution_count": 5,
   "metadata": {},
   "outputs": [
    {
     "data": {
      "text/html": [
       "<style  type=\"text/css\" >\n",
       "</style><table id=\"T_179964e3_93f8_11eb_abdd_9cb6d0bc877e\" ><thead>    <tr>        <th class=\"blank level0\" ></th>        <th class=\"col_heading level0 col0\" >Purchase Count</th>        <th class=\"col_heading level0 col1\" >Average Purchase Price</th>        <th class=\"col_heading level0 col2\" >Total Purchase Value</th>        <th class=\"col_heading level0 col3\" >Avg Total Purchase per Person</th>    </tr>    <tr>        <th class=\"index_name level0\" >Gender</th>        <th class=\"blank\" ></th>        <th class=\"blank\" ></th>        <th class=\"blank\" ></th>        <th class=\"blank\" ></th>    </tr></thead><tbody>\n",
       "                <tr>\n",
       "                        <th id=\"T_179964e3_93f8_11eb_abdd_9cb6d0bc877elevel0_row0\" class=\"row_heading level0 row0\" >Female</th>\n",
       "                        <td id=\"T_179964e3_93f8_11eb_abdd_9cb6d0bc877erow0_col0\" class=\"data row0 col0\" >113</td>\n",
       "                        <td id=\"T_179964e3_93f8_11eb_abdd_9cb6d0bc877erow0_col1\" class=\"data row0 col1\" >$3.20</td>\n",
       "                        <td id=\"T_179964e3_93f8_11eb_abdd_9cb6d0bc877erow0_col2\" class=\"data row0 col2\" >$361.94</td>\n",
       "                        <td id=\"T_179964e3_93f8_11eb_abdd_9cb6d0bc877erow0_col3\" class=\"data row0 col3\" >$4.47</td>\n",
       "            </tr>\n",
       "            <tr>\n",
       "                        <th id=\"T_179964e3_93f8_11eb_abdd_9cb6d0bc877elevel0_row1\" class=\"row_heading level0 row1\" >Male</th>\n",
       "                        <td id=\"T_179964e3_93f8_11eb_abdd_9cb6d0bc877erow1_col0\" class=\"data row1 col0\" >652</td>\n",
       "                        <td id=\"T_179964e3_93f8_11eb_abdd_9cb6d0bc877erow1_col1\" class=\"data row1 col1\" >$3.02</td>\n",
       "                        <td id=\"T_179964e3_93f8_11eb_abdd_9cb6d0bc877erow1_col2\" class=\"data row1 col2\" >$1,967.64</td>\n",
       "                        <td id=\"T_179964e3_93f8_11eb_abdd_9cb6d0bc877erow1_col3\" class=\"data row1 col3\" >$4.07</td>\n",
       "            </tr>\n",
       "            <tr>\n",
       "                        <th id=\"T_179964e3_93f8_11eb_abdd_9cb6d0bc877elevel0_row2\" class=\"row_heading level0 row2\" >Other / Non-Disclosed</th>\n",
       "                        <td id=\"T_179964e3_93f8_11eb_abdd_9cb6d0bc877erow2_col0\" class=\"data row2 col0\" >15</td>\n",
       "                        <td id=\"T_179964e3_93f8_11eb_abdd_9cb6d0bc877erow2_col1\" class=\"data row2 col1\" >$3.35</td>\n",
       "                        <td id=\"T_179964e3_93f8_11eb_abdd_9cb6d0bc877erow2_col2\" class=\"data row2 col2\" >$50.19</td>\n",
       "                        <td id=\"T_179964e3_93f8_11eb_abdd_9cb6d0bc877erow2_col3\" class=\"data row2 col3\" >$4.56</td>\n",
       "            </tr>\n",
       "    </tbody></table>"
      ],
      "text/plain": [
       "<pandas.io.formats.style.Styler at 0x1eb1f549580>"
      ]
     },
     "execution_count": 5,
     "metadata": {},
     "output_type": "execute_result"
    }
   ],
   "source": [
    "gender_a_data = purchase_data[[\"Gender\", \"Purchase ID\", \"Price\", \"SN\"]]\n",
    "\n",
    "gender_a_data_gb = gender_a_data.groupby(\"Gender\")[\"Purchase ID\"].count()\n",
    "\n",
    "avg_pur_price = gender_a_data.groupby(\"Gender\")[\"Price\"].sum() / gender_a_data_gb\n",
    "\n",
    "t_pur_val = gender_a_data.groupby(\"Gender\")[\"Price\"].sum()\n",
    "\n",
    "avg_t_pur_person = gender_a_data.groupby(\"Gender\")[\"Price\"].sum() / gender_demographic\n",
    "\n",
    "gender_pur_analysis = pd.DataFrame({\"Purchase Count\": gender_a_data_gb, \"Average Purchase Price\": avg_pur_price, \"Total Purchase Value\": t_pur_val, \"Avg Total Purchase per Person\": avg_t_pur_person})\n",
    "gender_pur_analysis\n",
    "\n",
    "format_gender_a = {\"Average Purchase Price\": \"${:,.2f}\", \"Total Purchase Value\": \"${:,.2f}\", \"Avg Total Purchase per Person\": \"${:,.2f}\"}\n",
    "gender_pur_analysis.style.format(format_gender_a)"
   ]
  },
  {
   "cell_type": "code",
   "execution_count": 6,
   "metadata": {},
   "outputs": [
    {
     "data": {
      "text/plain": [
       "0    20-24\n",
       "1      40+\n",
       "2    20-24\n",
       "3    20-24\n",
       "4    20-24\n",
       "Name: Age, dtype: category\n",
       "Categories (8, object): ['<10' < '10-14' < '15-19' < '20-24' < '25-29' < '30-34' < '35-39' < '40+']"
      ]
     },
     "execution_count": 6,
     "metadata": {},
     "output_type": "execute_result"
    }
   ],
   "source": [
    "#create bins and bin labels for age groups\n",
    "bins = [0, 9, 14, 19, 24, 29, 34, 39, 100]\n",
    "bin_labels = [\"<10\", \"10-14\", \"15-19\", \"20-24\", \"25-29\", \"30-34\", \"35-39\", \"40+\"]\n",
    "\n",
    "pd.cut(purchase_data_df[\"Age\"], bins, labels=bin_labels).head()"
   ]
  },
  {
   "cell_type": "code",
   "execution_count": 7,
   "metadata": {},
   "outputs": [],
   "source": [
    "purchase_data_df[\"Age Group\"] = pd.cut(purchase_data_df[\"Age\"], bins, labels=bin_labels)"
   ]
  },
  {
   "cell_type": "code",
   "execution_count": 8,
   "metadata": {},
   "outputs": [
    {
     "data": {
      "text/html": [
       "<style  type=\"text/css\" >\n",
       "</style><table id=\"T_1924d53b_93f8_11eb_9d1b_9cb6d0bc877e\" ><thead>    <tr>        <th class=\"blank level0\" ></th>        <th class=\"col_heading level0 col0\" >Total Count</th>        <th class=\"col_heading level0 col1\" >Percent of Players</th>    </tr>    <tr>        <th class=\"index_name level0\" >Age Group</th>        <th class=\"blank\" ></th>        <th class=\"blank\" ></th>    </tr></thead><tbody>\n",
       "                <tr>\n",
       "                        <th id=\"T_1924d53b_93f8_11eb_9d1b_9cb6d0bc877elevel0_row0\" class=\"row_heading level0 row0\" ><10</th>\n",
       "                        <td id=\"T_1924d53b_93f8_11eb_9d1b_9cb6d0bc877erow0_col0\" class=\"data row0 col0\" >17</td>\n",
       "                        <td id=\"T_1924d53b_93f8_11eb_9d1b_9cb6d0bc877erow0_col1\" class=\"data row0 col1\" >2.95%</td>\n",
       "            </tr>\n",
       "            <tr>\n",
       "                        <th id=\"T_1924d53b_93f8_11eb_9d1b_9cb6d0bc877elevel0_row1\" class=\"row_heading level0 row1\" >10-14</th>\n",
       "                        <td id=\"T_1924d53b_93f8_11eb_9d1b_9cb6d0bc877erow1_col0\" class=\"data row1 col0\" >22</td>\n",
       "                        <td id=\"T_1924d53b_93f8_11eb_9d1b_9cb6d0bc877erow1_col1\" class=\"data row1 col1\" >3.82%</td>\n",
       "            </tr>\n",
       "            <tr>\n",
       "                        <th id=\"T_1924d53b_93f8_11eb_9d1b_9cb6d0bc877elevel0_row2\" class=\"row_heading level0 row2\" >15-19</th>\n",
       "                        <td id=\"T_1924d53b_93f8_11eb_9d1b_9cb6d0bc877erow2_col0\" class=\"data row2 col0\" >107</td>\n",
       "                        <td id=\"T_1924d53b_93f8_11eb_9d1b_9cb6d0bc877erow2_col1\" class=\"data row2 col1\" >18.58%</td>\n",
       "            </tr>\n",
       "            <tr>\n",
       "                        <th id=\"T_1924d53b_93f8_11eb_9d1b_9cb6d0bc877elevel0_row3\" class=\"row_heading level0 row3\" >20-24</th>\n",
       "                        <td id=\"T_1924d53b_93f8_11eb_9d1b_9cb6d0bc877erow3_col0\" class=\"data row3 col0\" >258</td>\n",
       "                        <td id=\"T_1924d53b_93f8_11eb_9d1b_9cb6d0bc877erow3_col1\" class=\"data row3 col1\" >44.79%</td>\n",
       "            </tr>\n",
       "            <tr>\n",
       "                        <th id=\"T_1924d53b_93f8_11eb_9d1b_9cb6d0bc877elevel0_row4\" class=\"row_heading level0 row4\" >25-29</th>\n",
       "                        <td id=\"T_1924d53b_93f8_11eb_9d1b_9cb6d0bc877erow4_col0\" class=\"data row4 col0\" >77</td>\n",
       "                        <td id=\"T_1924d53b_93f8_11eb_9d1b_9cb6d0bc877erow4_col1\" class=\"data row4 col1\" >13.37%</td>\n",
       "            </tr>\n",
       "            <tr>\n",
       "                        <th id=\"T_1924d53b_93f8_11eb_9d1b_9cb6d0bc877elevel0_row5\" class=\"row_heading level0 row5\" >30-34</th>\n",
       "                        <td id=\"T_1924d53b_93f8_11eb_9d1b_9cb6d0bc877erow5_col0\" class=\"data row5 col0\" >52</td>\n",
       "                        <td id=\"T_1924d53b_93f8_11eb_9d1b_9cb6d0bc877erow5_col1\" class=\"data row5 col1\" >9.03%</td>\n",
       "            </tr>\n",
       "            <tr>\n",
       "                        <th id=\"T_1924d53b_93f8_11eb_9d1b_9cb6d0bc877elevel0_row6\" class=\"row_heading level0 row6\" >35-39</th>\n",
       "                        <td id=\"T_1924d53b_93f8_11eb_9d1b_9cb6d0bc877erow6_col0\" class=\"data row6 col0\" >31</td>\n",
       "                        <td id=\"T_1924d53b_93f8_11eb_9d1b_9cb6d0bc877erow6_col1\" class=\"data row6 col1\" >5.38%</td>\n",
       "            </tr>\n",
       "            <tr>\n",
       "                        <th id=\"T_1924d53b_93f8_11eb_9d1b_9cb6d0bc877elevel0_row7\" class=\"row_heading level0 row7\" >40+</th>\n",
       "                        <td id=\"T_1924d53b_93f8_11eb_9d1b_9cb6d0bc877erow7_col0\" class=\"data row7 col0\" >12</td>\n",
       "                        <td id=\"T_1924d53b_93f8_11eb_9d1b_9cb6d0bc877erow7_col1\" class=\"data row7 col1\" >2.08%</td>\n",
       "            </tr>\n",
       "    </tbody></table>"
      ],
      "text/plain": [
       "<pandas.io.formats.style.Styler at 0x1eb1d45b790>"
      ]
     },
     "execution_count": 8,
     "metadata": {},
     "output_type": "execute_result"
    }
   ],
   "source": [
    "#grab the Age group and SN from purchase_data_df\n",
    "age_data = purchase_data_df[[\"Age Group\", \"SN\"]]\n",
    "\n",
    "#group by age group\n",
    "age_demographic = age_data.groupby(\"Age Group\")[\"SN\"].nunique()\n",
    "\n",
    "#get percentage per age group\n",
    "percent = (age_data.groupby(\"Age Group\")[\"SN\"].nunique()) / total_users\n",
    "\n",
    "#create a data frame\n",
    "age_demographic_df = pd.DataFrame(age_demographic)\n",
    "\n",
    "#add the age group % to the dataframe\n",
    "age_demographic_df[\"Percent of Players\"] = percent\n",
    "\n",
    "#format the data frame\n",
    "format_dict = {\"Percent of Players\": \"{:.2%}\"}\n",
    "age_demographic_df.columns = [\"Total Count\", \"Percent of Players\"]\n",
    "\n",
    "#print data frame\n",
    "age_demographic_df.style.format(format_dict)\n"
   ]
  },
  {
   "cell_type": "code",
   "execution_count": 9,
   "metadata": {},
   "outputs": [
    {
     "data": {
      "text/html": [
       "<style  type=\"text/css\" >\n",
       "</style><table id=\"T_1986a743_93f8_11eb_b423_9cb6d0bc877e\" ><thead>    <tr>        <th class=\"blank level0\" ></th>        <th class=\"col_heading level0 col0\" >Purchase Count</th>        <th class=\"col_heading level0 col1\" >Average Purchase Price</th>        <th class=\"col_heading level0 col2\" >Total Purchase Value</th>        <th class=\"col_heading level0 col3\" >Avg Total Purchase per Person</th>    </tr>    <tr>        <th class=\"index_name level0\" >Age Group</th>        <th class=\"blank\" ></th>        <th class=\"blank\" ></th>        <th class=\"blank\" ></th>        <th class=\"blank\" ></th>    </tr></thead><tbody>\n",
       "                <tr>\n",
       "                        <th id=\"T_1986a743_93f8_11eb_b423_9cb6d0bc877elevel0_row0\" class=\"row_heading level0 row0\" ><10</th>\n",
       "                        <td id=\"T_1986a743_93f8_11eb_b423_9cb6d0bc877erow0_col0\" class=\"data row0 col0\" >23</td>\n",
       "                        <td id=\"T_1986a743_93f8_11eb_b423_9cb6d0bc877erow0_col1\" class=\"data row0 col1\" >$3.35</td>\n",
       "                        <td id=\"T_1986a743_93f8_11eb_b423_9cb6d0bc877erow0_col2\" class=\"data row0 col2\" >$77.13</td>\n",
       "                        <td id=\"T_1986a743_93f8_11eb_b423_9cb6d0bc877erow0_col3\" class=\"data row0 col3\" >$4.54</td>\n",
       "            </tr>\n",
       "            <tr>\n",
       "                        <th id=\"T_1986a743_93f8_11eb_b423_9cb6d0bc877elevel0_row1\" class=\"row_heading level0 row1\" >10-14</th>\n",
       "                        <td id=\"T_1986a743_93f8_11eb_b423_9cb6d0bc877erow1_col0\" class=\"data row1 col0\" >28</td>\n",
       "                        <td id=\"T_1986a743_93f8_11eb_b423_9cb6d0bc877erow1_col1\" class=\"data row1 col1\" >$2.96</td>\n",
       "                        <td id=\"T_1986a743_93f8_11eb_b423_9cb6d0bc877erow1_col2\" class=\"data row1 col2\" >$82.78</td>\n",
       "                        <td id=\"T_1986a743_93f8_11eb_b423_9cb6d0bc877erow1_col3\" class=\"data row1 col3\" >$3.76</td>\n",
       "            </tr>\n",
       "            <tr>\n",
       "                        <th id=\"T_1986a743_93f8_11eb_b423_9cb6d0bc877elevel0_row2\" class=\"row_heading level0 row2\" >15-19</th>\n",
       "                        <td id=\"T_1986a743_93f8_11eb_b423_9cb6d0bc877erow2_col0\" class=\"data row2 col0\" >136</td>\n",
       "                        <td id=\"T_1986a743_93f8_11eb_b423_9cb6d0bc877erow2_col1\" class=\"data row2 col1\" >$3.04</td>\n",
       "                        <td id=\"T_1986a743_93f8_11eb_b423_9cb6d0bc877erow2_col2\" class=\"data row2 col2\" >$412.89</td>\n",
       "                        <td id=\"T_1986a743_93f8_11eb_b423_9cb6d0bc877erow2_col3\" class=\"data row2 col3\" >$3.86</td>\n",
       "            </tr>\n",
       "            <tr>\n",
       "                        <th id=\"T_1986a743_93f8_11eb_b423_9cb6d0bc877elevel0_row3\" class=\"row_heading level0 row3\" >20-24</th>\n",
       "                        <td id=\"T_1986a743_93f8_11eb_b423_9cb6d0bc877erow3_col0\" class=\"data row3 col0\" >365</td>\n",
       "                        <td id=\"T_1986a743_93f8_11eb_b423_9cb6d0bc877erow3_col1\" class=\"data row3 col1\" >$3.05</td>\n",
       "                        <td id=\"T_1986a743_93f8_11eb_b423_9cb6d0bc877erow3_col2\" class=\"data row3 col2\" >$1,114.06</td>\n",
       "                        <td id=\"T_1986a743_93f8_11eb_b423_9cb6d0bc877erow3_col3\" class=\"data row3 col3\" >$4.32</td>\n",
       "            </tr>\n",
       "            <tr>\n",
       "                        <th id=\"T_1986a743_93f8_11eb_b423_9cb6d0bc877elevel0_row4\" class=\"row_heading level0 row4\" >25-29</th>\n",
       "                        <td id=\"T_1986a743_93f8_11eb_b423_9cb6d0bc877erow4_col0\" class=\"data row4 col0\" >101</td>\n",
       "                        <td id=\"T_1986a743_93f8_11eb_b423_9cb6d0bc877erow4_col1\" class=\"data row4 col1\" >$2.90</td>\n",
       "                        <td id=\"T_1986a743_93f8_11eb_b423_9cb6d0bc877erow4_col2\" class=\"data row4 col2\" >$293.00</td>\n",
       "                        <td id=\"T_1986a743_93f8_11eb_b423_9cb6d0bc877erow4_col3\" class=\"data row4 col3\" >$3.81</td>\n",
       "            </tr>\n",
       "            <tr>\n",
       "                        <th id=\"T_1986a743_93f8_11eb_b423_9cb6d0bc877elevel0_row5\" class=\"row_heading level0 row5\" >30-34</th>\n",
       "                        <td id=\"T_1986a743_93f8_11eb_b423_9cb6d0bc877erow5_col0\" class=\"data row5 col0\" >73</td>\n",
       "                        <td id=\"T_1986a743_93f8_11eb_b423_9cb6d0bc877erow5_col1\" class=\"data row5 col1\" >$2.93</td>\n",
       "                        <td id=\"T_1986a743_93f8_11eb_b423_9cb6d0bc877erow5_col2\" class=\"data row5 col2\" >$214.00</td>\n",
       "                        <td id=\"T_1986a743_93f8_11eb_b423_9cb6d0bc877erow5_col3\" class=\"data row5 col3\" >$4.12</td>\n",
       "            </tr>\n",
       "            <tr>\n",
       "                        <th id=\"T_1986a743_93f8_11eb_b423_9cb6d0bc877elevel0_row6\" class=\"row_heading level0 row6\" >35-39</th>\n",
       "                        <td id=\"T_1986a743_93f8_11eb_b423_9cb6d0bc877erow6_col0\" class=\"data row6 col0\" >41</td>\n",
       "                        <td id=\"T_1986a743_93f8_11eb_b423_9cb6d0bc877erow6_col1\" class=\"data row6 col1\" >$3.60</td>\n",
       "                        <td id=\"T_1986a743_93f8_11eb_b423_9cb6d0bc877erow6_col2\" class=\"data row6 col2\" >$147.67</td>\n",
       "                        <td id=\"T_1986a743_93f8_11eb_b423_9cb6d0bc877erow6_col3\" class=\"data row6 col3\" >$4.76</td>\n",
       "            </tr>\n",
       "            <tr>\n",
       "                        <th id=\"T_1986a743_93f8_11eb_b423_9cb6d0bc877elevel0_row7\" class=\"row_heading level0 row7\" >40+</th>\n",
       "                        <td id=\"T_1986a743_93f8_11eb_b423_9cb6d0bc877erow7_col0\" class=\"data row7 col0\" >13</td>\n",
       "                        <td id=\"T_1986a743_93f8_11eb_b423_9cb6d0bc877erow7_col1\" class=\"data row7 col1\" >$2.94</td>\n",
       "                        <td id=\"T_1986a743_93f8_11eb_b423_9cb6d0bc877erow7_col2\" class=\"data row7 col2\" >$38.24</td>\n",
       "                        <td id=\"T_1986a743_93f8_11eb_b423_9cb6d0bc877erow7_col3\" class=\"data row7 col3\" >$3.19</td>\n",
       "            </tr>\n",
       "    </tbody></table>"
      ],
      "text/plain": [
       "<pandas.io.formats.style.Styler at 0x1eb1d46e640>"
      ]
     },
     "execution_count": 9,
     "metadata": {},
     "output_type": "execute_result"
    }
   ],
   "source": [
    "age_a_data = purchase_data[[\"Age Group\", \"Purchase ID\", \"Price\", \"SN\"]]\n",
    "\n",
    "age_a_data_gb = age_a_data.groupby(\"Age Group\")[\"Purchase ID\"].count()\n",
    "\n",
    "age_avg_pur_price = age_a_data.groupby(\"Age Group\")[\"Price\"].sum() / age_a_data_gb\n",
    "\n",
    "age_t_pur_val = age_a_data.groupby(\"Age Group\")[\"Price\"].sum()\n",
    "\n",
    "age_avg_t_pur_person = age_a_data.groupby(\"Age Group\")[\"Price\"].sum() / age_demographic\n",
    "\n",
    "age_pur_analysis = pd.DataFrame({\"Purchase Count\": age_a_data_gb, \"Average Purchase Price\": age_avg_pur_price, \"Total Purchase Value\": age_t_pur_val, \"Avg Total Purchase per Person\": age_avg_t_pur_person})\n",
    "gender_pur_analysis\n",
    "\n",
    "format_age_a = {\"Average Purchase Price\": \"${:,.2f}\", \"Total Purchase Value\": \"${:,.2f}\", \"Avg Total Purchase per Person\": \"${:,.2f}\"}\n",
    "age_pur_analysis.style.format(format_age_a)"
   ]
  },
  {
   "cell_type": "code",
   "execution_count": null,
   "metadata": {},
   "outputs": [],
   "source": []
  }
 ],
 "metadata": {
  "kernelspec": {
   "display_name": "Python 3",
   "language": "python",
   "name": "python3"
  },
  "language_info": {
   "codemirror_mode": {
    "name": "ipython",
    "version": 3
   },
   "file_extension": ".py",
   "mimetype": "text/x-python",
   "name": "python",
   "nbconvert_exporter": "python",
   "pygments_lexer": "ipython3",
   "version": "3.8.5"
  }
 },
 "nbformat": 4,
 "nbformat_minor": 4
}
