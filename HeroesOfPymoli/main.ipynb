{
 "cells": [
  {
   "cell_type": "code",
   "execution_count": 1,
   "metadata": {},
   "outputs": [],
   "source": [
    "#import pandas library\n",
    "import pandas as pd\n",
    "\n",
    "#load the file\n",
    "file_to_load = \"Resources/purchase_data.csv\"\n",
    "\n",
    "#read the purchase data and store it into the Pandas data frame\n",
    "purchase_data = pd.read_csv(file_to_load, encoding= \"utf-8\")"
   ]
  },
  {
   "cell_type": "code",
   "execution_count": 2,
   "metadata": {},
   "outputs": [
    {
     "data": {
      "text/html": [
       "<div>\n",
       "<style scoped>\n",
       "    .dataframe tbody tr th:only-of-type {\n",
       "        vertical-align: middle;\n",
       "    }\n",
       "\n",
       "    .dataframe tbody tr th {\n",
       "        vertical-align: top;\n",
       "    }\n",
       "\n",
       "    .dataframe thead th {\n",
       "        text-align: right;\n",
       "    }\n",
       "</style>\n",
       "<table border=\"1\" class=\"dataframe\">\n",
       "  <thead>\n",
       "    <tr style=\"text-align: right;\">\n",
       "      <th></th>\n",
       "      <th>Total Users</th>\n",
       "    </tr>\n",
       "  </thead>\n",
       "  <tbody>\n",
       "    <tr>\n",
       "      <th>0</th>\n",
       "      <td>576</td>\n",
       "    </tr>\n",
       "  </tbody>\n",
       "</table>\n",
       "</div>"
      ],
      "text/plain": [
       "   Total Users\n",
       "0          576"
      ]
     },
     "execution_count": 2,
     "metadata": {},
     "output_type": "execute_result"
    }
   ],
   "source": [
    "#calculate the total number of users\n",
    "total_users = len(purchase_data[\"SN\"].unique())\n",
    "total_users_df = pd.DataFrame({\"Total Users\": [total_users]})\n",
    "total_users_df"
   ]
  },
  {
   "cell_type": "code",
   "execution_count": 3,
   "metadata": {},
   "outputs": [
    {
     "data": {
      "text/html": [
       "<div>\n",
       "<style scoped>\n",
       "    .dataframe tbody tr th:only-of-type {\n",
       "        vertical-align: middle;\n",
       "    }\n",
       "\n",
       "    .dataframe tbody tr th {\n",
       "        vertical-align: top;\n",
       "    }\n",
       "\n",
       "    .dataframe thead th {\n",
       "        text-align: right;\n",
       "    }\n",
       "</style>\n",
       "<table border=\"1\" class=\"dataframe\">\n",
       "  <thead>\n",
       "    <tr style=\"text-align: right;\">\n",
       "      <th></th>\n",
       "      <th>Unique Items</th>\n",
       "      <th>Average Price</th>\n",
       "      <th>Number of Purchases</th>\n",
       "      <th>Total Revenue</th>\n",
       "    </tr>\n",
       "  </thead>\n",
       "  <tbody>\n",
       "    <tr>\n",
       "      <th>0</th>\n",
       "      <td>179</td>\n",
       "      <td>$3.05</td>\n",
       "      <td>780</td>\n",
       "      <td>$2,379.77</td>\n",
       "    </tr>\n",
       "  </tbody>\n",
       "</table>\n",
       "</div>"
      ],
      "text/plain": [
       "   Unique Items Average Price  Number of Purchases Total Revenue\n",
       "0           179         $3.05                  780     $2,379.77"
      ]
     },
     "execution_count": 3,
     "metadata": {},
     "output_type": "execute_result"
    }
   ],
   "source": [
    "#find total number of unique items\n",
    "unique_items = len(purchase_data[\"Item Name\"].unique())\n",
    "\n",
    "#find average price\n",
    "average_price = \"${:,.2f}\".format(sum(purchase_data[\"Price\"]) / purchase_data[\"Price\"].count())\n",
    "\n",
    "#find number of purchases\n",
    "number_of_purchases = len(purchase_data[\"Purchase ID\"])\n",
    "\n",
    "#find total revenue\n",
    "total_revenue = \"${:,.2f}\".format(sum(purchase_data[\"Price\"]))\n",
    "\n",
    "#create Data Frame\n",
    "purchasing_analysis_total_df = pd.DataFrame({\"Unique Items\": [unique_items], \"Average Price\": [average_price], \"Number of Purchases\": [number_of_purchases], \"Total Revenue\": [total_revenue]})\n",
    "purchasing_analysis_total_df"
   ]
  },
  {
   "cell_type": "code",
   "execution_count": 4,
   "metadata": {},
   "outputs": [
    {
     "data": {
      "text/html": [
       "<style  type=\"text/css\" >\n",
       "</style><table id=\"T_54eeb362_93d8_11eb_819d_9cb6d0bc877e\" ><thead>    <tr>        <th class=\"blank level0\" ></th>        <th class=\"col_heading level0 col0\" >Total Count</th>        <th class=\"col_heading level0 col1\" >Percent of Players</th>    </tr>    <tr>        <th class=\"index_name level0\" >Gender</th>        <th class=\"blank\" ></th>        <th class=\"blank\" ></th>    </tr></thead><tbody>\n",
       "                <tr>\n",
       "                        <th id=\"T_54eeb362_93d8_11eb_819d_9cb6d0bc877elevel0_row0\" class=\"row_heading level0 row0\" >Female</th>\n",
       "                        <td id=\"T_54eeb362_93d8_11eb_819d_9cb6d0bc877erow0_col0\" class=\"data row0 col0\" >81</td>\n",
       "                        <td id=\"T_54eeb362_93d8_11eb_819d_9cb6d0bc877erow0_col1\" class=\"data row0 col1\" >14.06%</td>\n",
       "            </tr>\n",
       "            <tr>\n",
       "                        <th id=\"T_54eeb362_93d8_11eb_819d_9cb6d0bc877elevel0_row1\" class=\"row_heading level0 row1\" >Male</th>\n",
       "                        <td id=\"T_54eeb362_93d8_11eb_819d_9cb6d0bc877erow1_col0\" class=\"data row1 col0\" >484</td>\n",
       "                        <td id=\"T_54eeb362_93d8_11eb_819d_9cb6d0bc877erow1_col1\" class=\"data row1 col1\" >84.03%</td>\n",
       "            </tr>\n",
       "            <tr>\n",
       "                        <th id=\"T_54eeb362_93d8_11eb_819d_9cb6d0bc877elevel0_row2\" class=\"row_heading level0 row2\" >Other / Non-Disclosed</th>\n",
       "                        <td id=\"T_54eeb362_93d8_11eb_819d_9cb6d0bc877erow2_col0\" class=\"data row2 col0\" >11</td>\n",
       "                        <td id=\"T_54eeb362_93d8_11eb_819d_9cb6d0bc877erow2_col1\" class=\"data row2 col1\" >1.91%</td>\n",
       "            </tr>\n",
       "    </tbody></table>"
      ],
      "text/plain": [
       "<pandas.io.formats.style.Styler at 0x18b19557af0>"
      ]
     },
     "execution_count": 4,
     "metadata": {},
     "output_type": "execute_result"
    }
   ],
   "source": [
    "#grab the Gneder and SN data from purchase_data.csv\n",
    "gender_data = purchase_data[[\"Gender\", \"SN\"]]\n",
    "\n",
    "#group by gender only counting the unique users\n",
    "gender_demographic = gender_data.groupby(\"Gender\")[\"SN\"].nunique()\n",
    "\n",
    "#calculate the percentage of genders\n",
    "percent = (gender_data.groupby(\"Gender\")[\"SN\"].nunique()) / total_users\n",
    "\n",
    "#create a dataframe\n",
    "gender_demographic_df = pd.DataFrame(gender_demographic)\n",
    "\n",
    "#add the gender % to the dataframe\n",
    "gender_demographic_df[\"Percent of Players\"] = percent\n",
    "\n",
    "#format the dataframe\n",
    "format_dict = {\"Percent of Players\": \"{:.2%}\"}\n",
    "gender_demographic_df.columns = [\"Total Count\", \"Percent of Players\"]\n",
    "\n",
    "#print the DataFrame\n",
    "gender_demographic_df.style.format(format_dict)"
   ]
  },
  {
   "cell_type": "code",
   "execution_count": 5,
   "metadata": {},
   "outputs": [
    {
     "data": {
      "text/html": [
       "<style  type=\"text/css\" >\n",
       "</style><table id=\"T_54f05eb3_93d8_11eb_ace8_9cb6d0bc877e\" ><thead>    <tr>        <th class=\"blank level0\" ></th>        <th class=\"col_heading level0 col0\" >Purchase Count</th>        <th class=\"col_heading level0 col1\" >Average Purchase Price</th>        <th class=\"col_heading level0 col2\" >Total Purchase Value</th>        <th class=\"col_heading level0 col3\" >Avg Total Purchase per Person</th>    </tr>    <tr>        <th class=\"index_name level0\" >Gender</th>        <th class=\"blank\" ></th>        <th class=\"blank\" ></th>        <th class=\"blank\" ></th>        <th class=\"blank\" ></th>    </tr></thead><tbody>\n",
       "                <tr>\n",
       "                        <th id=\"T_54f05eb3_93d8_11eb_ace8_9cb6d0bc877elevel0_row0\" class=\"row_heading level0 row0\" >Female</th>\n",
       "                        <td id=\"T_54f05eb3_93d8_11eb_ace8_9cb6d0bc877erow0_col0\" class=\"data row0 col0\" >113</td>\n",
       "                        <td id=\"T_54f05eb3_93d8_11eb_ace8_9cb6d0bc877erow0_col1\" class=\"data row0 col1\" >$3.20</td>\n",
       "                        <td id=\"T_54f05eb3_93d8_11eb_ace8_9cb6d0bc877erow0_col2\" class=\"data row0 col2\" >$361.94</td>\n",
       "                        <td id=\"T_54f05eb3_93d8_11eb_ace8_9cb6d0bc877erow0_col3\" class=\"data row0 col3\" >$4.47</td>\n",
       "            </tr>\n",
       "            <tr>\n",
       "                        <th id=\"T_54f05eb3_93d8_11eb_ace8_9cb6d0bc877elevel0_row1\" class=\"row_heading level0 row1\" >Male</th>\n",
       "                        <td id=\"T_54f05eb3_93d8_11eb_ace8_9cb6d0bc877erow1_col0\" class=\"data row1 col0\" >652</td>\n",
       "                        <td id=\"T_54f05eb3_93d8_11eb_ace8_9cb6d0bc877erow1_col1\" class=\"data row1 col1\" >$3.02</td>\n",
       "                        <td id=\"T_54f05eb3_93d8_11eb_ace8_9cb6d0bc877erow1_col2\" class=\"data row1 col2\" >$1,967.64</td>\n",
       "                        <td id=\"T_54f05eb3_93d8_11eb_ace8_9cb6d0bc877erow1_col3\" class=\"data row1 col3\" >$4.07</td>\n",
       "            </tr>\n",
       "            <tr>\n",
       "                        <th id=\"T_54f05eb3_93d8_11eb_ace8_9cb6d0bc877elevel0_row2\" class=\"row_heading level0 row2\" >Other / Non-Disclosed</th>\n",
       "                        <td id=\"T_54f05eb3_93d8_11eb_ace8_9cb6d0bc877erow2_col0\" class=\"data row2 col0\" >15</td>\n",
       "                        <td id=\"T_54f05eb3_93d8_11eb_ace8_9cb6d0bc877erow2_col1\" class=\"data row2 col1\" >$3.35</td>\n",
       "                        <td id=\"T_54f05eb3_93d8_11eb_ace8_9cb6d0bc877erow2_col2\" class=\"data row2 col2\" >$50.19</td>\n",
       "                        <td id=\"T_54f05eb3_93d8_11eb_ace8_9cb6d0bc877erow2_col3\" class=\"data row2 col3\" >$4.56</td>\n",
       "            </tr>\n",
       "    </tbody></table>"
      ],
      "text/plain": [
       "<pandas.io.formats.style.Styler at 0x18b1a5cb970>"
      ]
     },
     "execution_count": 5,
     "metadata": {},
     "output_type": "execute_result"
    }
   ],
   "source": [
    "gender_a_data = purchase_data[[\"Gender\", \"Purchase ID\", \"Price\", \"SN\"]]\n",
    "\n",
    "gender_a_data_gb = gender_a_data.groupby(\"Gender\")[\"Purchase ID\"].count()\n",
    "\n",
    "avg_pur_price = gender_a_data.groupby(\"Gender\")[\"Price\"].sum() / gender_a_data_gb\n",
    "\n",
    "t_pur_val = gender_a_data.groupby(\"Gender\")[\"Price\"].sum()\n",
    "\n",
    "avg_t_pur_person = gender_a_data.groupby(\"Gender\")[\"Price\"].sum() / gender_demographic\n",
    "\n",
    "gender_pur_analysis = pd.DataFrame({\"Purchase Count\": gender_a_data_gb, \"Average Purchase Price\": avg_pur_price, \"Total Purchase Value\": t_pur_val, \"Avg Total Purchase per Person\": avg_t_pur_person})\n",
    "gender_pur_analysis\n",
    "\n",
    "format_gender_a = {\"Average Purchase Price\": \"${:,.2f}\", \"Total Purchase Value\": \"${:,.2f}\", \"Avg Total Purchase per Person\": \"${:,.2f}\"}\n",
    "gender_pur_analysis.style.format(format_gender_a)"
   ]
  },
  {
   "cell_type": "code",
   "execution_count": null,
   "metadata": {},
   "outputs": [],
   "source": []
  },
  {
   "cell_type": "code",
   "execution_count": null,
   "metadata": {},
   "outputs": [],
   "source": []
  },
  {
   "cell_type": "code",
   "execution_count": null,
   "metadata": {},
   "outputs": [],
   "source": []
  }
 ],
 "metadata": {
  "kernelspec": {
   "display_name": "Python 3",
   "language": "python",
   "name": "python3"
  },
  "language_info": {
   "codemirror_mode": {
    "name": "ipython",
    "version": 3
   },
   "file_extension": ".py",
   "mimetype": "text/x-python",
   "name": "python",
   "nbconvert_exporter": "python",
   "pygments_lexer": "ipython3",
   "version": "3.8.5"
  }
 },
 "nbformat": 4,
 "nbformat_minor": 4
}
